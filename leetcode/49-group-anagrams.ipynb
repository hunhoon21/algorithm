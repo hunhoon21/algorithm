{
 "cells": [
  {
   "cell_type": "markdown",
   "id": "aaa038cd-f44e-4060-b8e5-44f8b656cdce",
   "metadata": {
    "canvas": {
     "comments": [],
     "componentType": "CodeCell",
     "copiedOriginId": null,
     "diskcache": false,
     "headerColor": "inherit",
     "id": "ad42306c-f8ea-4f34-99a0-d4b2fde61e7f",
     "isComponent": false,
     "name": "",
     "parents": []
    },
    "tags": []
   },
   "source": [
    "# [49. Group Anagrams](https://leetcode.com/problems/group-anagrams/)\n",
    "\n",
    "Given an array of strings strs, group the anagrams together. You can return the answer in any order.\n",
    "\n",
    "An Anagram is a word or phrase formed by rearranging the letters of a different word or phrase, typically using all the original letters exactly once.\n",
    "\n",
    "### Example 1:\n",
    "```python\n",
    "Input: strs = [\"eat\",\"tea\",\"tan\",\"ate\",\"nat\",\"bat\"]\n",
    "Output: [[\"bat\"],[\"nat\",\"tan\"],[\"ate\",\"eat\",\"tea\"]]\n",
    "```\n",
    "\n",
    "### Example 2:\n",
    "```python\n",
    "Input: strs = [\"\"]\n",
    "Output: [[\"\"]]\n",
    "```\n",
    "\n",
    "### Example 3:\n",
    "```python\n",
    "Input: strs = [\"a\"]\n",
    "Output: [[\"a\"]]\n",
    "```\n",
    "\n",
    "### Constraints:\n",
    "* `1 <= strs.length <= 104`\n",
    "* `0 <= strs[i].length <= 100`\n",
    "* `strs[i]` consists of lowercase English letters."
   ]
  },
  {
   "cell_type": "code",
   "execution_count": 2,
   "id": "069478ca-353c-41fd-a0a7-e849725b596c",
   "metadata": {
    "canvas": {
     "comments": [],
     "componentType": "CodeCell",
     "copiedOriginId": null,
     "diskcache": false,
     "headerColor": "inherit",
     "id": "0a450cb4-dadb-4f50-9952-f1feb93f1830",
     "isComponent": false,
     "name": "",
     "parents": []
    }
   },
   "outputs": [],
   "source": [
    "from typing import List"
   ]
  },
  {
   "cell_type": "code",
   "execution_count": 3,
   "id": "41554bd9-a46f-4ffd-8b53-302f4444c880",
   "metadata": {
    "canvas": {
     "comments": [],
     "componentType": "CodeCell",
     "copiedOriginId": null,
     "diskcache": false,
     "headerColor": "inherit",
     "id": "5b18ccf9-9856-48e4-883e-1d45abedab3a",
     "isComponent": false,
     "name": "",
     "parents": []
    }
   },
   "outputs": [],
   "source": [
    "class Solution:\n",
    "    def groupAnagrams(self, strs: List[str]) -> List[List[str]]:\n",
    "        anagram_index = 0\n",
    "        anagram_dict = {}\n",
    "        group_anagrams = []\n",
    "        for string in strs:\n",
    "            parsed_string = \"\".join(sorted(string))\n",
    "            if parsed_string not in anagram_dict:\n",
    "                anagram_dict[parsed_string] = anagram_index\n",
    "                group_anagrams.append([])\n",
    "                anagram_index += 1\n",
    "            \n",
    "            group_anagrams[anagram_dict[parsed_string]].append(string)\n",
    "\n",
    "        return group_anagrams\n"
   ]
  },
  {
   "cell_type": "code",
   "execution_count": null,
   "id": "4e5a2cd1-7660-4b70-a99c-152ad55e0884",
   "metadata": {
    "canvas": {
     "comments": [],
     "componentType": "CodeCell",
     "copiedOriginId": null,
     "diskcache": false,
     "headerColor": "inherit",
     "id": "55c65c7d-7d74-41e9-bf76-d197abe10e76",
     "isComponent": false,
     "name": "",
     "parents": []
    }
   },
   "outputs": [],
   "source": []
  }
 ],
 "metadata": {
  "canvas": {
   "colorPalette": [
    "inherit",
    "inherit",
    "inherit",
    "inherit",
    "inherit",
    "inherit",
    "inherit",
    "inherit",
    "inherit",
    "inherit"
   ],
   "parameters": []
  },
  "kernelspec": {
   "display_name": "Python 3 (ipykernel)",
   "language": "python",
   "name": "python3"
  },
  "language_info": {
   "codemirror_mode": {
    "name": "ipython",
    "version": 3
   },
   "file_extension": ".py",
   "mimetype": "text/x-python",
   "name": "python",
   "nbconvert_exporter": "python",
   "pygments_lexer": "ipython3",
   "version": "3.8.13"
  }
 },
 "nbformat": 4,
 "nbformat_minor": 5
}
