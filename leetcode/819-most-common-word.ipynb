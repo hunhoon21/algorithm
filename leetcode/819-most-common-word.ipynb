{
 "cells": [
  {
   "cell_type": "markdown",
   "id": "f0a4c8d5-006f-41e5-9d31-a2a8590e0feb",
   "metadata": {
    "canvas": {
     "comments": [],
     "componentType": "CodeCell",
     "copiedOriginId": null,
     "diskcache": false,
     "headerColor": "inherit",
     "id": "774755bf-70da-4023-a845-eb349d7867a9",
     "isComponent": false,
     "name": "",
     "parents": []
    },
    "tags": []
   },
   "source": [
    "# [819. Most Common Word](https://leetcode.com/problems/most-common-word/)\n",
    "\n",
    "Given a string paragraph and a string array of the banned words banned, return the most frequent word that is not banned. It is guaranteed there is at least one word that is not banned, and that the answer is unique.\n",
    "\n",
    "The words in paragraph are case-insensitive and the answer should be returned in lowercase.\n",
    "\n",
    "### Example 1:\n",
    "```\n",
    "Input: paragraph = \"Bob hit a ball, the hit BALL flew far after it was hit.\", banned = [\"hit\"]\n",
    "Output: \"ball\"\n",
    "Explanation: \n",
    "\"hit\" occurs 3 times, but it is a banned word.\n",
    "\"ball\" occurs twice (and no other word does), so it is the most frequent non-banned word in the paragraph. \n",
    "Note that words in the paragraph are not case sensitive,\n",
    "that punctuation is ignored (even if adjacent to words, such as \"ball,\"), \n",
    "and that \"hit\" isn't the answer even though it occurs more because it is banned.\n",
    "```\n",
    "### Example 2:\n",
    "```\n",
    "Input: paragraph = \"a.\", banned = []\n",
    "Output: \"a\"\n",
    "```\n",
    "\n",
    "### Constraints:\n",
    "* `1 <= paragraph.length <= 1000`\n",
    "* paragraph consists of English letters, space `' '`, or one of the symbols: `\"!?',;.\"`.\n",
    "* `0 <= banned.length <= 100`\n",
    "* `1 <= banned[i].length <= 10`\n",
    "* `banned[i]` consists of only lowercase English letters.\n"
   ]
  },
  {
   "cell_type": "code",
   "execution_count": 1,
   "id": "6d96c868-3499-4fe5-a012-838e785ecee8",
   "metadata": {
    "canvas": {
     "comments": [],
     "componentType": "CodeCell",
     "copiedOriginId": null,
     "diskcache": false,
     "headerColor": "inherit",
     "id": "374f6e84-5159-4335-bb24-808c46834f63",
     "isComponent": false,
     "name": "",
     "parents": []
    }
   },
   "outputs": [],
   "source": [
    "from typing import List\n",
    "from collections import defaultdict"
   ]
  },
  {
   "cell_type": "code",
   "execution_count": 2,
   "id": "3013220f-0e1f-47ce-982c-e8ac7ece02f5",
   "metadata": {
    "canvas": {
     "comments": [],
     "componentType": "CodeCell",
     "copiedOriginId": null,
     "diskcache": false,
     "headerColor": "inherit",
     "id": "c02f4555-fac3-4bef-b5fb-a06918db5520",
     "isComponent": false,
     "name": "",
     "parents": []
    }
   },
   "outputs": [],
   "source": [
    "class Solution:\n",
    "    def mostCommonWord(self, paragraph: str, banned: List[str]) -> str:\n",
    "        paragraph = paragraph.replace(\".\", \" \")\n",
    "        paragraph = paragraph.replace(\",\", \" \")\n",
    "        paragraph_list = paragraph.split()\n",
    "        banned = set(banned)\n",
    "        word_dict = defaultdict(int)\n",
    "\n",
    "        for c in paragraph_list:\n",
    "            if not c:\n",
    "                continue\n",
    "            if not c[-1].isalpha():\n",
    "                c = c[:-1]\n",
    "            c = c.lower()\n",
    "            if c not in banned:\n",
    "                word_dict[c] += 1\n",
    "\n",
    "        count_word_dict = {item: key for key, item in word_dict.items()}\n",
    "\n",
    "        max_count = max(set(count_word_dict))\n",
    "\n",
    "        return count_word_dict[max_count]\n"
   ]
  },
  {
   "cell_type": "code",
   "execution_count": null,
   "id": "772371ac-4e6d-4ff4-b057-28dbeb466c89",
   "metadata": {
    "canvas": {
     "comments": [],
     "componentType": "CodeCell",
     "copiedOriginId": null,
     "diskcache": false,
     "headerColor": "inherit",
     "id": "7dbf7dd0-601d-4376-8724-6aadb943bc76",
     "isComponent": false,
     "name": "",
     "parents": []
    }
   },
   "outputs": [],
   "source": []
  }
 ],
 "metadata": {
  "canvas": {
   "colorPalette": [
    "inherit",
    "inherit",
    "inherit",
    "inherit",
    "inherit",
    "inherit",
    "inherit",
    "inherit",
    "inherit",
    "inherit"
   ],
   "parameters": []
  },
  "kernelspec": {
   "display_name": "Python 3 (ipykernel)",
   "language": "python",
   "name": "python3"
  },
  "language_info": {
   "codemirror_mode": {
    "name": "ipython",
    "version": 3
   },
   "file_extension": ".py",
   "mimetype": "text/x-python",
   "name": "python",
   "nbconvert_exporter": "python",
   "pygments_lexer": "ipython3",
   "version": "3.8.13"
  }
 },
 "nbformat": 4,
 "nbformat_minor": 5
}
