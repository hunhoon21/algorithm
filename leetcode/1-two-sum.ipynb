{
 "cells": [
  {
   "cell_type": "markdown",
   "id": "2ea164d6-0515-46e3-ac08-c7f2eee5cde3",
   "metadata": {
    "canvas": {
     "comments": [],
     "componentType": "CodeCell",
     "copiedOriginId": null,
     "diskcache": false,
     "headerColor": "inherit",
     "id": "29bf4641-de03-4cc8-9b9f-b1f1704b4f4b",
     "isComponent": false,
     "name": "",
     "parents": []
    },
    "tags": []
   },
   "source": [
    "# [1. Two Sum](https://leetcode.com/problems/two-sum/description/)\n",
    "\n",
    "Given an array of integers nums and an integer target, return indices of the two numbers such that they add up to target.\n",
    "\n",
    "You may assume that each input would have exactly one solution, and you may not use the same element twice.\n",
    "\n",
    "You can return the answer in any order.\n",
    "\n",
    " \n",
    "\n",
    "### Example 1:\n",
    "```python\n",
    "Input: nums = [2,7,11,15], target = 9\n",
    "Output: [0,1]\n",
    "Explanation: Because nums[0] + nums[1] == 9, we return [0, 1].\n",
    "```\n",
    "### Example 2:\n",
    "```python\n",
    "Input: nums = [3,2,4], target = 6\n",
    "Output: [1,2]\n",
    "```\n",
    "### Example 3:\n",
    "```python\n",
    "Input: nums = [3,3], target = 6\n",
    "Output: [0,1]\n",
    "```\n",
    "\n",
    "### Constraints:\n",
    "\n",
    "* `2 <= nums.length <= 104`\n",
    "* `-109 <= nums[i] <= 109`\n",
    "* `-109 <= target <= 109`\n",
    "* __Only one valid answer exists.__\n",
    " \n",
    "\n",
    "__Follow-up__: Can you come up with an algorithm that is less than O(n2) time complexity?"
   ]
  },
  {
   "cell_type": "code",
   "execution_count": 2,
   "id": "590828c7-d815-49c8-b8af-178c4839939f",
   "metadata": {
    "canvas": {
     "comments": [],
     "componentType": "CodeCell",
     "copiedOriginId": null,
     "diskcache": false,
     "headerColor": "inherit",
     "id": "f874a1c1-2a0f-4db8-b926-5befe79aecde",
     "isComponent": false,
     "name": "",
     "parents": []
    }
   },
   "outputs": [],
   "source": [
    "from typing import List"
   ]
  },
  {
   "cell_type": "code",
   "execution_count": 3,
   "id": "4e18ce3b-b985-47a7-bc25-7cd296e26e37",
   "metadata": {
    "canvas": {
     "comments": [],
     "componentType": "CodeCell",
     "copiedOriginId": null,
     "diskcache": false,
     "headerColor": "inherit",
     "id": "f771f98c-d031-4e7f-a452-bdc05bc87057",
     "isComponent": false,
     "name": "",
     "parents": []
    }
   },
   "outputs": [],
   "source": [
    "class Solution:\n",
    "    def twoSum(self, nums: List[int], target: int) -> List[int]:\n",
    "        nums_dict = {num: i for i, num in enumerate(nums)}\n",
    "        for i, num in enumerate(nums):\n",
    "            if target - num in nums_dict and i != nums_dict[target - num]:\n",
    "                return [i, nums_dict[target - num]]\n"
   ]
  },
  {
   "cell_type": "code",
   "execution_count": null,
   "id": "c7aa22d8-6727-49d6-a72b-c6e739d74815",
   "metadata": {
    "canvas": {
     "comments": [],
     "componentType": "CodeCell",
     "copiedOriginId": null,
     "diskcache": false,
     "headerColor": "inherit",
     "id": "d6eb26b4-f448-4133-9d5a-2e33fb4461cc",
     "isComponent": false,
     "name": "",
     "parents": []
    }
   },
   "outputs": [],
   "source": []
  }
 ],
 "metadata": {
  "canvas": {
   "colorPalette": [
    "inherit",
    "inherit",
    "inherit",
    "inherit",
    "inherit",
    "inherit",
    "inherit",
    "inherit",
    "inherit",
    "inherit"
   ],
   "parameters": []
  },
  "kernelspec": {
   "display_name": "Python 3 (ipykernel)",
   "language": "python",
   "name": "python3"
  },
  "language_info": {
   "codemirror_mode": {
    "name": "ipython",
    "version": 3
   },
   "file_extension": ".py",
   "mimetype": "text/x-python",
   "name": "python",
   "nbconvert_exporter": "python",
   "pygments_lexer": "ipython3",
   "version": "3.8.13"
  }
 },
 "nbformat": 4,
 "nbformat_minor": 5
}
